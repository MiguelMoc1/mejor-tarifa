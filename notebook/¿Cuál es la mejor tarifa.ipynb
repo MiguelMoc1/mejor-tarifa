{
 "cells": [
  {
   "cell_type": "markdown",
   "metadata": {
    "id": "3rYiDeEH0q0f"
   },
   "source": [
    "# ¿Cuál es la mejor tarifa?\n",
    "\n",
    "Trabajo como analista para el operador de telecomunicaciones Megaline. La empresa ofrece a sus clientes dos tarifas de prepago, Surf y Ultimate. El departamento comercial quiere saber cuál de las tarifas genera más ingresos para poder ajustar el presupuesto de publicidad.\n",
    "\n",
    "Vas a realizar un análisis preliminar de las tarifas basado en una selección de clientes relativamente pequeña. Tendrás los datos de 500 clientes de Megaline: quiénes son los clientes, de dónde son, qué tarifa usan, así como la cantidad de llamadas que hicieron y los mensajes de texto que enviaron en 2018. Tu trabajo es analizar el comportamiento de los clientes y determinar qué tarifa de prepago genera más ingresos."
   ]
  },
  {
   "cell_type": "markdown",
   "metadata": {
    "id": "VNddPNRQ0q0w"
   },
   "source": [
    "\n",
    "Propósito del Proyecto\n",
    "El objetivo principal de este proyecto es determinar cuál de las dos tarifas de prepago ofrecidas por Megaline, \"Surf\" y \"Ultimate\", genera más ingresos. Este análisis ayudará al departamento comercial a tomar decisiones informadas respecto al presupuesto de publicidad, basándose en el rendimiento económico de cada tarifa. Al entender cuál tarifa es más rentable, Megaline podrá optimizar sus estrategias de marketing y promoción para maximizar la rentabilidad.\n",
    "\n",
    "Acciones a seguir\n",
    "Para lograr este objetivo, seguiré varios pasos clave:\n",
    "\n",
    "Inicialización: Cargaré las librerías necesarias para el manejo y análisis de datos.\n",
    "Carga de Datos: Importaré los datasets proporcionados que contienen información sobre los usuarios, sus llamadas, mensajes, uso de internet y detalles de las tarifas.\n",
    "Exploración y Limpieza de Datos: Revisaré los datos para entender su estructura, comprobar la calidad de los datos y realizar las limpiezas necesarias (como tratar valores nulos o incorrectos).\n",
    "Preparación de Datos: Transformaré los datos para su análisis, incluyendo la conversión de tipos de datos si es necesario, y calcularé los ingresos mensuales por usuario basándome en su uso y el plan que tienen.\n",
    "Análisis Exploratorio: Estudiaré el comportamiento de los clientes en ambos planes para entender sus necesidades y cómo utilizan los servicios.\n",
    "Análisis Estadístico: Realizaré pruebas estadísticas para comparar los ingresos generados por cada tarifa y determinar si existen diferencias significativas entre ellas.\n",
    "Visualización: Crearé visualizaciones para representar los resultados del análisis, facilitando la interpretación y la presentación de conclusiones.\n",
    "Conclusión: Redactaré una conclusión basada en los hallazgos del análisis, proporcionando recomendaciones claras basadas en los datos."
   ]
  },
  {
   "cell_type": "markdown",
   "metadata": {
    "id": "MQi4IPy70q0y"
   },
   "source": [
    "## Inicialización"
   ]
  },
  {
   "cell_type": "code",
   "execution_count": 221,
   "metadata": {
    "id": "MtYIuBxu0q0z"
   },
   "outputs": [],
   "source": [
    "# Cargar todas las librerías\n",
    "import pandas as pd\n",
    "import numpy as np\n",
    "import matplotlib.pyplot as plt\n",
    "from scipy import stats\n",
    "\n",
    "\n"
   ]
  },
  {
   "cell_type": "markdown",
   "metadata": {
    "id": "4ysWWC5i0q00"
   },
   "source": [
    "## Cargar datos"
   ]
  },
  {
   "cell_type": "code",
   "execution_count": 222,
   "metadata": {
    "id": "CCqPW7rS0q01"
   },
   "outputs": [],
   "source": [
    "# Carga los archivos de datos en diferentes DataFrames\n",
    "\n",
    "calls = pd.read_csv('/datasets/megaline_calls.csv')\n",
    "internet = pd.read_csv('/datasets/megaline_internet.csv')\n",
    "messages = pd.read_csv('/datasets/megaline_messages.csv')\n",
    "plans = pd.read_csv('/datasets/megaline_plans.csv')\n",
    "users = pd.read_csv('/datasets/megaline_users.csv')"
   ]
  },
  {
   "cell_type": "markdown",
   "metadata": {
    "id": "69qqoJ3r0q01"
   },
   "source": [
    "## Preparar los datos"
   ]
  },
  {
   "cell_type": "code",
   "execution_count": 223,
   "metadata": {
    "id": "vUuZw80S0q01",
    "scrolled": false
   },
   "outputs": [
    {
     "name": "stdout",
     "output_type": "stream",
     "text": [
      "<class 'pandas.core.frame.DataFrame'>\n",
      "RangeIndex: 137735 entries, 0 to 137734\n",
      "Data columns (total 4 columns):\n",
      " #   Column     Non-Null Count   Dtype  \n",
      "---  ------     --------------   -----  \n",
      " 0   id         137735 non-null  object \n",
      " 1   user_id    137735 non-null  int64  \n",
      " 2   call_date  137735 non-null  object \n",
      " 3   duration   137735 non-null  float64\n",
      "dtypes: float64(1), int64(1), object(2)\n",
      "memory usage: 4.2+ MB\n",
      "None\n",
      "         id  user_id   call_date  duration\n",
      "0   1000_93     1000  2018-12-27      8.52\n",
      "1  1000_145     1000  2018-12-27     13.66\n",
      "2  1000_247     1000  2018-12-27     14.48\n",
      "3  1000_309     1000  2018-12-28      5.76\n",
      "4  1000_380     1000  2018-12-30      4.22\n",
      "<class 'pandas.core.frame.DataFrame'>\n",
      "RangeIndex: 104825 entries, 0 to 104824\n",
      "Data columns (total 4 columns):\n",
      " #   Column        Non-Null Count   Dtype  \n",
      "---  ------        --------------   -----  \n",
      " 0   id            104825 non-null  object \n",
      " 1   user_id       104825 non-null  int64  \n",
      " 2   session_date  104825 non-null  object \n",
      " 3   mb_used       104825 non-null  float64\n",
      "dtypes: float64(1), int64(1), object(2)\n",
      "memory usage: 3.2+ MB\n",
      "None\n",
      "         id  user_id session_date  mb_used\n",
      "0   1000_13     1000   2018-12-29    89.86\n",
      "1  1000_204     1000   2018-12-31     0.00\n",
      "2  1000_379     1000   2018-12-28   660.40\n",
      "3  1000_413     1000   2018-12-26   270.99\n",
      "4  1000_442     1000   2018-12-27   880.22\n",
      "<class 'pandas.core.frame.DataFrame'>\n",
      "RangeIndex: 76051 entries, 0 to 76050\n",
      "Data columns (total 3 columns):\n",
      " #   Column        Non-Null Count  Dtype \n",
      "---  ------        --------------  ----- \n",
      " 0   id            76051 non-null  object\n",
      " 1   user_id       76051 non-null  int64 \n",
      " 2   message_date  76051 non-null  object\n",
      "dtypes: int64(1), object(2)\n",
      "memory usage: 1.7+ MB\n",
      "None\n",
      "         id  user_id message_date\n",
      "0  1000_125     1000   2018-12-27\n",
      "1  1000_160     1000   2018-12-31\n",
      "2  1000_223     1000   2018-12-31\n",
      "3  1000_251     1000   2018-12-27\n",
      "4  1000_255     1000   2018-12-26\n",
      "<class 'pandas.core.frame.DataFrame'>\n",
      "RangeIndex: 500 entries, 0 to 499\n",
      "Data columns (total 8 columns):\n",
      " #   Column      Non-Null Count  Dtype \n",
      "---  ------      --------------  ----- \n",
      " 0   user_id     500 non-null    int64 \n",
      " 1   first_name  500 non-null    object\n",
      " 2   last_name   500 non-null    object\n",
      " 3   age         500 non-null    int64 \n",
      " 4   city        500 non-null    object\n",
      " 5   reg_date    500 non-null    object\n",
      " 6   plan        500 non-null    object\n",
      " 7   churn_date  34 non-null     object\n",
      "dtypes: int64(2), object(6)\n",
      "memory usage: 31.4+ KB\n",
      "None\n",
      "   user_id first_name  last_name  age                                   city  \\\n",
      "0     1000   Anamaria      Bauer   45  Atlanta-Sandy Springs-Roswell, GA MSA   \n",
      "1     1001     Mickey  Wilkerson   28        Seattle-Tacoma-Bellevue, WA MSA   \n",
      "2     1002     Carlee    Hoffman   36   Las Vegas-Henderson-Paradise, NV MSA   \n",
      "3     1003   Reynaldo    Jenkins   52                          Tulsa, OK MSA   \n",
      "4     1004    Leonila   Thompson   40        Seattle-Tacoma-Bellevue, WA MSA   \n",
      "\n",
      "     reg_date      plan churn_date  \n",
      "0  2018-12-24  ultimate        NaN  \n",
      "1  2018-08-13      surf        NaN  \n",
      "2  2018-10-21      surf        NaN  \n",
      "3  2018-01-28      surf        NaN  \n",
      "4  2018-05-23      surf        NaN  \n",
      "<class 'pandas.core.frame.DataFrame'>\n",
      "RangeIndex: 2 entries, 0 to 1\n",
      "Data columns (total 8 columns):\n",
      " #   Column                 Non-Null Count  Dtype  \n",
      "---  ------                 --------------  -----  \n",
      " 0   messages_included      2 non-null      int64  \n",
      " 1   mb_per_month_included  2 non-null      int64  \n",
      " 2   minutes_included       2 non-null      int64  \n",
      " 3   usd_monthly_pay        2 non-null      int64  \n",
      " 4   usd_per_gb             2 non-null      int64  \n",
      " 5   usd_per_message        2 non-null      float64\n",
      " 6   usd_per_minute         2 non-null      float64\n",
      " 7   plan_name              2 non-null      object \n",
      "dtypes: float64(2), int64(5), object(1)\n",
      "memory usage: 256.0+ bytes\n",
      "None\n",
      "   messages_included  mb_per_month_included  minutes_included  \\\n",
      "0                 50                  15360               500   \n",
      "1               1000                  30720              3000   \n",
      "\n",
      "   usd_monthly_pay  usd_per_gb  usd_per_message  usd_per_minute plan_name  \n",
      "0               20          10             0.03            0.03      surf  \n",
      "1               70           7             0.01            0.01  ultimate  \n",
      "Valores nulos en 'calls':\n",
      "id           0\n",
      "user_id      0\n",
      "call_date    0\n",
      "duration     0\n",
      "dtype: int64\n",
      "Valores nulos en 'internet':\n",
      "id              0\n",
      "user_id         0\n",
      "session_date    0\n",
      "mb_used         0\n",
      "dtype: int64\n",
      "Valores nulos en 'messages':\n",
      "id              0\n",
      "user_id         0\n",
      "message_date    0\n",
      "dtype: int64\n",
      "Valores nulos en 'users':\n",
      "user_id         0\n",
      "first_name      0\n",
      "last_name       0\n",
      "age             0\n",
      "city            0\n",
      "reg_date        0\n",
      "plan            0\n",
      "churn_date    466\n",
      "dtype: int64\n",
      "Valores nulos en 'plans':\n",
      "messages_included        0\n",
      "mb_per_month_included    0\n",
      "minutes_included         0\n",
      "usd_monthly_pay          0\n",
      "usd_per_gb               0\n",
      "usd_per_message          0\n",
      "usd_per_minute           0\n",
      "plan_name                0\n",
      "dtype: int64\n"
     ]
    }
   ],
   "source": [
    "# Información del DataFrame 'calls'\n",
    "print(calls.info())\n",
    "print(calls.head())\n",
    "# Convertir 'call_date' a datetime\n",
    "calls['call_date'] = pd.to_datetime(calls['call_date'])\n",
    "\n",
    "\n",
    "# Información del DataFrame 'internet'\n",
    "print(internet.info())\n",
    "print(internet.head())\n",
    "# Convertir 'session_date' a datetime\n",
    "internet['session_date'] = pd.to_datetime(internet['session_date'])\n",
    "\n",
    "\n",
    "# Información del DataFrame 'messages'\n",
    "print(messages.info())\n",
    "print(messages.head())\n",
    "# Convertir 'message_date' a datetime\n",
    "messages['message_date'] = pd.to_datetime(messages['message_date'])\n",
    "\n",
    "\n",
    "# Información del DataFrame 'users'\n",
    "print(users.info())\n",
    "print(users.head())\n",
    "# Convertir 'reg_date' y 'churn_date' a datetime\n",
    "users['reg_date'] = pd.to_datetime(users['reg_date'])\n",
    "users['churn_date'] = pd.to_datetime(users['churn_date'], errors='coerce')  # Usamos errors='coerce' para manejar fechas no válidas\n",
    "\n",
    "\n",
    "# Información del DataFrame 'plans'\n",
    "print(plans.info())\n",
    "print(plans.head())\n",
    "\n",
    "print(\"Valores nulos en 'calls':\")\n",
    "print(calls.isnull().sum())\n",
    "\n",
    "print(\"Valores nulos en 'internet':\")\n",
    "print(internet.isnull().sum())\n",
    "\n",
    "print(\"Valores nulos en 'messages':\")\n",
    "print(messages.isnull().sum())\n",
    "\n",
    "print(\"Valores nulos en 'users':\")\n",
    "print(users.isnull().sum())\n",
    "\n",
    "# Verificar valores nulos en 'plans'\n",
    "print(\"Valores nulos en 'plans':\")\n",
    "print(plans.isnull().sum())\n"
   ]
  },
  {
   "cell_type": "markdown",
   "metadata": {
    "id": "ohBhimvH0q01"
   },
   "source": [
    "## Tarifas"
   ]
  },
  {
   "cell_type": "code",
   "execution_count": 224,
   "metadata": {
    "id": "GptqP3Q40q02"
   },
   "outputs": [
    {
     "name": "stdout",
     "output_type": "stream",
     "text": [
      "<class 'pandas.core.frame.DataFrame'>\n",
      "RangeIndex: 2 entries, 0 to 1\n",
      "Data columns (total 8 columns):\n",
      " #   Column                 Non-Null Count  Dtype  \n",
      "---  ------                 --------------  -----  \n",
      " 0   messages_included      2 non-null      int64  \n",
      " 1   mb_per_month_included  2 non-null      int64  \n",
      " 2   minutes_included       2 non-null      int64  \n",
      " 3   usd_monthly_pay        2 non-null      int64  \n",
      " 4   usd_per_gb             2 non-null      int64  \n",
      " 5   usd_per_message        2 non-null      float64\n",
      " 6   usd_per_minute         2 non-null      float64\n",
      " 7   plan_name              2 non-null      object \n",
      "dtypes: float64(2), int64(5), object(1)\n",
      "memory usage: 256.0+ bytes\n",
      "None\n"
     ]
    }
   ],
   "source": [
    "# Imprime la información general/resumida sobre el DataFrame de las tarifas\n",
    "print(plans.info())\n"
   ]
  },
  {
   "cell_type": "code",
   "execution_count": 225,
   "metadata": {
    "id": "64xzjwL70q02"
   },
   "outputs": [
    {
     "name": "stdout",
     "output_type": "stream",
     "text": [
      "   messages_included  mb_per_month_included  minutes_included  \\\n",
      "0                 50                  15360               500   \n",
      "1               1000                  30720              3000   \n",
      "\n",
      "   usd_monthly_pay  usd_per_gb  usd_per_message  usd_per_minute plan_name  \n",
      "0               20          10             0.03            0.03      surf  \n",
      "1               70           7             0.01            0.01  ultimate  \n"
     ]
    }
   ],
   "source": [
    "# Imprime una muestra de los datos para las tarifas\n",
    "\n",
    "print(plans.head())"
   ]
  },
  {
   "cell_type": "markdown",
   "metadata": {
    "id": "mEc_3_hs0q02"
   },
   "source": [
    "No parece haber problemas con los tipos de datos, ni datos ausentes que requieran correcciones. Las estructuras de los datos están claramente definidas y parecen listas para ser utilizadas en cálculos o comparaciones futuras."
   ]
  },
  {
   "cell_type": "markdown",
   "metadata": {
    "id": "R3C05i1l0q03"
   },
   "source": [
    "## Corregir datos"
   ]
  },
  {
   "cell_type": "code",
   "execution_count": 226,
   "metadata": {},
   "outputs": [
    {
     "name": "stdout",
     "output_type": "stream",
     "text": [
      "   messages_included  minutes_included  usd_monthly_pay  usd_per_gb  \\\n",
      "0                 50               500               20          10   \n",
      "1               1000              3000               70           7   \n",
      "\n",
      "   usd_per_message  usd_per_minute plan_name  gb_per_month_included  \n",
      "0             0.03            0.03      surf                   15.0  \n",
      "1             0.01            0.01  ultimate                   30.0  \n"
     ]
    }
   ],
   "source": [
    "# Convertir megabytes a gigabytes y actualizar el DataFrame\n",
    "plans['gb_per_month_included'] = plans['mb_per_month_included'] / 1024\n",
    "plans.drop('mb_per_month_included', axis=1, inplace=True)\n",
    "\n",
    "print(plans)\n"
   ]
  },
  {
   "cell_type": "markdown",
   "metadata": {
    "id": "1n2X6WXf0q04"
   },
   "source": [
    "## Usuarios/as"
   ]
  },
  {
   "cell_type": "code",
   "execution_count": 227,
   "metadata": {
    "id": "2NgjWFqx0q05"
   },
   "outputs": [
    {
     "name": "stdout",
     "output_type": "stream",
     "text": [
      "<class 'pandas.core.frame.DataFrame'>\n",
      "RangeIndex: 500 entries, 0 to 499\n",
      "Data columns (total 8 columns):\n",
      " #   Column      Non-Null Count  Dtype         \n",
      "---  ------      --------------  -----         \n",
      " 0   user_id     500 non-null    int64         \n",
      " 1   first_name  500 non-null    object        \n",
      " 2   last_name   500 non-null    object        \n",
      " 3   age         500 non-null    int64         \n",
      " 4   city        500 non-null    object        \n",
      " 5   reg_date    500 non-null    datetime64[ns]\n",
      " 6   plan        500 non-null    object        \n",
      " 7   churn_date  34 non-null     datetime64[ns]\n",
      "dtypes: datetime64[ns](2), int64(2), object(4)\n",
      "memory usage: 31.4+ KB\n",
      "None\n"
     ]
    }
   ],
   "source": [
    "# Imprime la información general/resumida sobre el DataFrame de usuarios\n",
    "print(users.info())\n"
   ]
  },
  {
   "cell_type": "code",
   "execution_count": 228,
   "metadata": {
    "id": "1IN1L9uh0q05"
   },
   "outputs": [
    {
     "name": "stdout",
     "output_type": "stream",
     "text": [
      "   user_id first_name  last_name  age                                   city  \\\n",
      "0     1000   Anamaria      Bauer   45  Atlanta-Sandy Springs-Roswell, GA MSA   \n",
      "1     1001     Mickey  Wilkerson   28        Seattle-Tacoma-Bellevue, WA MSA   \n",
      "2     1002     Carlee    Hoffman   36   Las Vegas-Henderson-Paradise, NV MSA   \n",
      "3     1003   Reynaldo    Jenkins   52                          Tulsa, OK MSA   \n",
      "4     1004    Leonila   Thompson   40        Seattle-Tacoma-Bellevue, WA MSA   \n",
      "\n",
      "    reg_date      plan churn_date  \n",
      "0 2018-12-24  ultimate        NaT  \n",
      "1 2018-08-13      surf        NaT  \n",
      "2 2018-10-21      surf        NaT  \n",
      "3 2018-01-28      surf        NaT  \n",
      "4 2018-05-23      surf        NaT  \n",
      "Número de usuarios duplicados: 0\n",
      "           user_id         age\n",
      "count   500.000000  500.000000\n",
      "mean   1249.500000   45.486000\n",
      "std     144.481833   16.972269\n",
      "min    1000.000000   18.000000\n",
      "25%    1124.750000   30.000000\n",
      "50%    1249.500000   46.000000\n",
      "75%    1374.250000   61.000000\n",
      "max    1499.000000   75.000000\n"
     ]
    }
   ],
   "source": [
    "# Imprime una muestra de datos para usuarios\n",
    "print(users.head())\n",
    "\n",
    "print(\"Número de usuarios duplicados:\", users.duplicated().sum())\n",
    "\n",
    "\n",
    "print(users.describe())"
   ]
  },
  {
   "cell_type": "markdown",
   "metadata": {
    "id": "dCZoUq4f0q06"
   },
   "source": [
    "Users contiene información detallada sobre 500 usuarios, con campos bien estructurados y tipos de datos apropiados. La mayoría de los usuarios están activos, como indica la columna churn_date que principalmente contiene valores nulos, y no se detectaron registros duplicados. El análisis estadístico revela una distribución amplia en la edad de los usuarios, desde 18 hasta 75 años, con un promedio aproximado de 45 años. Esta variabilidad en la edad sugiere que Megaline atiende a un rango demográfico diverso, lo cual es crucial para planificar estrategias de marketing y servicios que aborden las necesidades de diferentes grupos de edad de manera efectiva."
   ]
  },
  {
   "cell_type": "markdown",
   "metadata": {
    "id": "ycwuARJp0q07"
   },
   "source": [
    "### Enriquecer los datos"
   ]
  },
  {
   "cell_type": "markdown",
   "metadata": {
    "id": "96NIh4CJ0q08"
   },
   "source": [
    "[Agrega factores adicionales a los datos si crees que pudieran ser útiles.]"
   ]
  },
  {
   "cell_type": "code",
   "execution_count": 229,
   "metadata": {
    "id": "iq0AaBS90q08"
   },
   "outputs": [],
   "source": [
    "users['is_active'] = users['churn_date'].isna()\n"
   ]
  },
  {
   "cell_type": "markdown",
   "metadata": {
    "id": "o7MeKCid0q08"
   },
   "source": [
    "## Llamadas"
   ]
  },
  {
   "cell_type": "code",
   "execution_count": 230,
   "metadata": {
    "id": "6dDlnoDm0q08"
   },
   "outputs": [
    {
     "name": "stdout",
     "output_type": "stream",
     "text": [
      "<class 'pandas.core.frame.DataFrame'>\n",
      "RangeIndex: 137735 entries, 0 to 137734\n",
      "Data columns (total 4 columns):\n",
      " #   Column     Non-Null Count   Dtype         \n",
      "---  ------     --------------   -----         \n",
      " 0   id         137735 non-null  object        \n",
      " 1   user_id    137735 non-null  int64         \n",
      " 2   call_date  137735 non-null  datetime64[ns]\n",
      " 3   duration   137735 non-null  float64       \n",
      "dtypes: datetime64[ns](1), float64(1), int64(1), object(1)\n",
      "memory usage: 4.2+ MB\n",
      "None\n"
     ]
    }
   ],
   "source": [
    "# Imprime la información general/resumida sobre el DataFrame de las llamadas\n",
    "\n",
    "print(calls.info())"
   ]
  },
  {
   "cell_type": "code",
   "execution_count": 231,
   "metadata": {
    "id": "kuh1vlNB0q09"
   },
   "outputs": [
    {
     "name": "stdout",
     "output_type": "stream",
     "text": [
      "         id  user_id  call_date  duration\n",
      "0   1000_93     1000 2018-12-27      8.52\n",
      "1  1000_145     1000 2018-12-27     13.66\n",
      "2  1000_247     1000 2018-12-27     14.48\n",
      "3  1000_309     1000 2018-12-28      5.76\n",
      "4  1000_380     1000 2018-12-30      4.22\n"
     ]
    }
   ],
   "source": [
    "# Imprime una muestra de datos para las llamadas\n",
    "print(calls.head())"
   ]
  },
  {
   "cell_type": "markdown",
   "metadata": {
    "id": "DOAxYJSx0q09"
   },
   "source": [
    "El DataFrame users está bien estructurado y no presenta problemas importantes en cuanto a tipos de datos o valores nulos inesperados. Parece estar listo para ser utilizado en análisis más detallados o para ser combinado con otros DataFrames para análisis próximos."
   ]
  },
  {
   "cell_type": "markdown",
   "metadata": {
    "id": "S7hzxmbX0q0-"
   },
   "source": [
    "### Corregir los datos"
   ]
  },
  {
   "cell_type": "code",
   "execution_count": 232,
   "metadata": {
    "id": "S2r8xA4f0q0-"
   },
   "outputs": [],
   "source": [
    "calls['duration_rounded'] = np.ceil(calls['duration'])"
   ]
  },
  {
   "cell_type": "markdown",
   "metadata": {
    "id": "KrMgTrlG0q0_"
   },
   "source": [
    "### Enriquecer los datos"
   ]
  },
  {
   "cell_type": "code",
   "execution_count": 233,
   "metadata": {
    "id": "iZ1avpA_0q0_"
   },
   "outputs": [
    {
     "name": "stdout",
     "output_type": "stream",
     "text": [
      "              id  user_id  call_date  duration  duration_rounded month_year\n",
      "0        1000_93     1000 2018-12-27      8.52               9.0    2018-12\n",
      "1       1000_145     1000 2018-12-27     13.66              14.0    2018-12\n",
      "2       1000_247     1000 2018-12-27     14.48              15.0    2018-12\n",
      "3       1000_309     1000 2018-12-28      5.76               6.0    2018-12\n",
      "4       1000_380     1000 2018-12-30      4.22               5.0    2018-12\n",
      "...          ...      ...        ...       ...               ...        ...\n",
      "137730  1499_199     1499 2018-11-21      8.72               9.0    2018-11\n",
      "137731  1499_200     1499 2018-10-20     10.89              11.0    2018-10\n",
      "137732  1499_201     1499 2018-09-21      8.12               9.0    2018-09\n",
      "137733  1499_202     1499 2018-10-10      0.37               1.0    2018-10\n",
      "137734  1499_203     1499 2018-12-29     13.86              14.0    2018-12\n",
      "\n",
      "[137735 rows x 6 columns]\n"
     ]
    }
   ],
   "source": [
    "calls['month_year'] = calls['call_date'].dt.to_period('M')\n",
    "\n",
    "print(calls)\n"
   ]
  },
  {
   "cell_type": "markdown",
   "metadata": {
    "id": "mOUZSi180q0_"
   },
   "source": [
    "## Mensajes"
   ]
  },
  {
   "cell_type": "code",
   "execution_count": 234,
   "metadata": {
    "id": "R-bYJpdV0q1A"
   },
   "outputs": [
    {
     "name": "stdout",
     "output_type": "stream",
     "text": [
      "<class 'pandas.core.frame.DataFrame'>\n",
      "RangeIndex: 76051 entries, 0 to 76050\n",
      "Data columns (total 3 columns):\n",
      " #   Column        Non-Null Count  Dtype         \n",
      "---  ------        --------------  -----         \n",
      " 0   id            76051 non-null  object        \n",
      " 1   user_id       76051 non-null  int64         \n",
      " 2   message_date  76051 non-null  datetime64[ns]\n",
      "dtypes: datetime64[ns](1), int64(1), object(1)\n",
      "memory usage: 1.7+ MB\n",
      "None\n"
     ]
    }
   ],
   "source": [
    "# Imprime la información general/resumida sobre el DataFrame de los mensajes\n",
    "print(messages.info())\n"
   ]
  },
  {
   "cell_type": "code",
   "execution_count": 235,
   "metadata": {
    "id": "mCEl2iGE0q1A"
   },
   "outputs": [
    {
     "name": "stdout",
     "output_type": "stream",
     "text": [
      "         id  user_id message_date\n",
      "0  1000_125     1000   2018-12-27\n",
      "1  1000_160     1000   2018-12-31\n",
      "2  1000_223     1000   2018-12-31\n",
      "3  1000_251     1000   2018-12-27\n",
      "4  1000_255     1000   2018-12-26\n",
      "Número de filas duplicadas: 0\n",
      "            user_id\n",
      "count  76051.000000\n",
      "mean    1245.972768\n",
      "std      139.843635\n",
      "min     1000.000000\n",
      "25%     1123.000000\n",
      "50%     1251.000000\n",
      "75%     1362.000000\n",
      "max     1497.000000\n"
     ]
    }
   ],
   "source": [
    "# Imprime una muestra de datos para los mensajes\n",
    "print(messages.head())\n",
    "print(\"Número de filas duplicadas:\", messages.duplicated().sum())\n",
    "\n",
    "\n",
    "print(messages.describe())"
   ]
  },
  {
   "cell_type": "markdown",
   "metadata": {
    "id": "04xDj7KH0q1A"
   },
   "source": [
    "Messages tiene 76,051 registros de mensajes enviados por usuarios, sin filas duplicadas, lo cual indica de una buena integridad de datos. Los campos incluyen un identificador de mensaje, user_id, y la fecha del mensaje, todos completos y correctamente escritos e identificables. La muestra de datos muestra que cada entrada registra mensajes individuales con fechas específicas, lo que significa un registro detallado de la actividad de mensajería de los usuarios. La descripción estadística revela que el promedio de mensajes enviados por usuario es aproximadamente 68, con una desviación de 40, indicando una variación considerable en el uso del servicio de mensajería entre los usuarios. Esto quiere decir que existe una buena diversidad en la comunicación entre los usuarios, con algunos enviando muchos más mensajes que otros, lo que puede reflejar diferentes estilos de comunicación o necesidades de conectividad."
   ]
  },
  {
   "cell_type": "markdown",
   "metadata": {
    "id": "HvLid7iD0q1B"
   },
   "source": [
    "### Enriquecer los datos"
   ]
  },
  {
   "cell_type": "markdown",
   "metadata": {
    "id": "8nhPFKIe0q1C"
   },
   "source": [
    "[Agrega factores adicionales a los datos si crees que pudieran ser útiles.]"
   ]
  },
  {
   "cell_type": "code",
   "execution_count": 236,
   "metadata": {
    "id": "zYEXZac10q1C"
   },
   "outputs": [
    {
     "name": "stdout",
     "output_type": "stream",
     "text": [
      "             id  user_id message_date month_year  message_count  is_active\n",
      "62617    1394_6     1394   2018-11-05    2018-11             32       True\n",
      "4193   1043_266     1043   2018-12-19    2018-12             87       True\n",
      "37915  1250_168     1250   2018-12-01    2018-12             79       True\n",
      "36594   1244_26     1244   2018-12-14    2018-12             41       True\n",
      "30013   1188_31     1188   2018-11-12    2018-11             49       True\n"
     ]
    }
   ],
   "source": [
    "#Agregar una columna para el período mensual y contar mensajes por usuario y mes\n",
    "messages['month_year'] = messages['message_date'].dt.to_period('M')\n",
    "\n",
    "message_counts = messages.groupby(['user_id', 'month_year']).size().reset_index(name='message_count')\n",
    "#Identificación de usuarios activos\n",
    "threshold_messages = 5\n",
    "message_counts['is_active'] = message_counts['message_count'] >= threshold_messages\n",
    "\n",
    "messages = messages.merge(message_counts, on=['user_id', 'month_year'], how='left')\n",
    "\n",
    "print(messages.sample(5))"
   ]
  },
  {
   "cell_type": "markdown",
   "metadata": {
    "id": "bStkaxn40q1C"
   },
   "source": [
    "## Internet"
   ]
  },
  {
   "cell_type": "code",
   "execution_count": 237,
   "metadata": {
    "id": "e-Uz5qyn0q1C"
   },
   "outputs": [
    {
     "name": "stdout",
     "output_type": "stream",
     "text": [
      "<class 'pandas.core.frame.DataFrame'>\n",
      "RangeIndex: 104825 entries, 0 to 104824\n",
      "Data columns (total 4 columns):\n",
      " #   Column        Non-Null Count   Dtype         \n",
      "---  ------        --------------   -----         \n",
      " 0   id            104825 non-null  object        \n",
      " 1   user_id       104825 non-null  int64         \n",
      " 2   session_date  104825 non-null  datetime64[ns]\n",
      " 3   mb_used       104825 non-null  float64       \n",
      "dtypes: datetime64[ns](1), float64(1), int64(1), object(1)\n",
      "memory usage: 3.2+ MB\n",
      "None\n"
     ]
    }
   ],
   "source": [
    "# Imprime la información general/resumida sobre el DataFrame de internet\n",
    "print(internet.info())\n"
   ]
  },
  {
   "cell_type": "code",
   "execution_count": 238,
   "metadata": {
    "id": "9r3x_XLw0q1C"
   },
   "outputs": [
    {
     "name": "stdout",
     "output_type": "stream",
     "text": [
      "         id  user_id session_date  mb_used\n",
      "0   1000_13     1000   2018-12-29    89.86\n",
      "1  1000_204     1000   2018-12-31     0.00\n",
      "2  1000_379     1000   2018-12-28   660.40\n",
      "3  1000_413     1000   2018-12-26   270.99\n",
      "4  1000_442     1000   2018-12-27   880.22\n",
      "Número de filas duplicadas: 0\n",
      "             user_id        mb_used\n",
      "count  104825.000000  104825.000000\n",
      "mean     1242.496361     366.713701\n",
      "std       142.053913     277.170542\n",
      "min      1000.000000       0.000000\n",
      "25%      1122.000000     136.080000\n",
      "50%      1236.000000     343.980000\n",
      "75%      1367.000000     554.610000\n",
      "max      1499.000000    1693.470000\n"
     ]
    }
   ],
   "source": [
    "# Imprime una muestra de datos para el tráfico de internet\n",
    "\n",
    "print(internet.head())\n",
    "\n",
    "print(\"Número de filas duplicadas:\", internet.duplicated().sum())\n",
    "\n",
    "\n",
    "print(internet.describe())"
   ]
  },
  {
   "cell_type": "markdown",
   "metadata": {
    "id": "EzOG5ik30q1D"
   },
   "source": [
    "Internet contiene 104,825 sesiones de uso de internet por parte de los usuarios, sin duplicados, indicando un manejo adecuado de los datos. Los campos incluyen identificadores de sesión, user_id, la fecha de la sesión y los megabytes usados durante cada sesión, con todos los campos correctamente llenados y tipificados. Los datos revelan un uso de internet que varía significativamente entre los usuarios, con un consumo promedio de aproximadamente 367 MB por sesión. La conversión de MB a GB en la muestra muestra un redondeo que refleja la política de Megaline de cobrar el uso de datos por gigabytes completos.\n",
    "\n",
    "\n",
    "\n",
    "\n",
    "\n",
    "\n"
   ]
  },
  {
   "cell_type": "markdown",
   "metadata": {
    "id": "e8_mLF4a0q1E"
   },
   "source": [
    "### Enriquecer los datos"
   ]
  },
  {
   "cell_type": "code",
   "execution_count": 239,
   "metadata": {
    "id": "ESiYPIEK0q1E"
   },
   "outputs": [
    {
     "name": "stdout",
     "output_type": "stream",
     "text": [
      "      user_id month_year  gb_used\n",
      "1891     1405    2018-12     14.0\n",
      "2012     1434    2018-08     15.0\n",
      "1804     1390    2018-04     14.0\n",
      "397      1082    2018-07     13.0\n",
      "26       1008    2018-10     17.0\n"
     ]
    }
   ],
   "source": [
    "internet['month_year'] = internet['session_date'].dt.to_period('M')\n",
    "#Redondear los MB usados al GB más próximo al final del mes por usuario\n",
    "monthly_gb_usage = internet.groupby(['user_id', 'month_year'])['mb_used'].sum().reset_index()\n",
    "\n",
    "# Convertimos MB a GB redondeando hacia arriba después de la agregación\n",
    "monthly_gb_usage['gb_used'] = np.ceil(monthly_gb_usage['mb_used'] / 1024)\n",
    "\n",
    "# Eliminamos la columna original de mb_used para evitar confusiones\n",
    "monthly_gb_usage.drop('mb_used', axis=1, inplace=True)\n",
    "\n",
    "# Mostrar una muestra de los datos agregados y redondeados\n",
    "print(monthly_gb_usage.sample(5))"
   ]
  },
  {
   "cell_type": "markdown",
   "metadata": {
    "id": "3UA2cqIW0q1E"
   },
   "source": [
    "## Estudiar las condiciones de las tarifas"
   ]
  },
  {
   "cell_type": "markdown",
   "metadata": {
    "id": "T86Sqltq0q1F"
   },
   "source": [
    "[Es sumamente importante entender cómo funcionan las tarifas, cómo se les cobra a los usuarios en función de su plan de suscripción. Así que te sugerimos imprimir la información de la tarifa para ver una vez más sus condiciones.]"
   ]
  },
  {
   "cell_type": "code",
   "execution_count": 240,
   "metadata": {
    "id": "i409op8p0q1F"
   },
   "outputs": [
    {
     "name": "stdout",
     "output_type": "stream",
     "text": [
      "   messages_included  minutes_included  usd_monthly_pay  usd_per_gb  \\\n",
      "0                 50               500               20          10   \n",
      "1               1000              3000               70           7   \n",
      "\n",
      "   usd_per_message  usd_per_minute plan_name  gb_per_month_included  \n",
      "0             0.03            0.03      surf                   15.0  \n",
      "1             0.01            0.01  ultimate                   30.0  \n"
     ]
    }
   ],
   "source": [
    "# Imprime las condiciones de la tarifa y asegúrate de que te quedan claras\n",
    "\n",
    "print(plans)"
   ]
  },
  {
   "cell_type": "markdown",
   "metadata": {
    "id": "hMR1tP5d0q1F"
   },
   "source": [
    "## Agregar datos por usuario\n"
   ]
  },
  {
   "cell_type": "code",
   "execution_count": 241,
   "metadata": {
    "id": "A332cedB0q1G"
   },
   "outputs": [],
   "source": [
    "# Calcula el número de llamadas hechas por cada usuario al mes. Guarda el resultado.\n",
    "calls_per_user_month = calls.groupby(['user_id', 'month_year']).size().reset_index(name='calls_per_month')\n"
   ]
  },
  {
   "cell_type": "code",
   "execution_count": 242,
   "metadata": {
    "id": "aw2cmuql0q1G"
   },
   "outputs": [],
   "source": [
    "# Calcula la cantidad de minutos usados por cada usuario al mes. Guarda el resultado.\n",
    "minutes_per_user_month = calls.groupby(['user_id', 'month_year'])['duration_rounded'].sum().reset_index(name='minutes_per_month')\n"
   ]
  },
  {
   "cell_type": "code",
   "execution_count": 243,
   "metadata": {
    "id": "CcQvNHn60q1G"
   },
   "outputs": [],
   "source": [
    "# Calcula el número de mensajes enviados por cada usuario al mes. Guarda el resultado.\n",
    "messages_per_user_month = messages.groupby(['user_id', 'month_year']).size().reset_index(name='messages_per_month')\n"
   ]
  },
  {
   "cell_type": "code",
   "execution_count": 244,
   "metadata": {
    "id": "H1AqN2eG0q1H"
   },
   "outputs": [],
   "source": [
    "# Calcula el volumen del tráfico de Internet usado por cada usuario al mes. Guarda el resultado.\n",
    "\n",
    "data_per_user_month = monthly_gb_usage"
   ]
  },
  {
   "cell_type": "code",
   "execution_count": 245,
   "metadata": {
    "id": "FW99ykyf0q1H"
   },
   "outputs": [],
   "source": [
    "# Fusiona los datos de llamadas, minutos, mensajes e Internet con base en user_id y month\n",
    "monthly_data = pd.merge(calls_per_user_month, minutes_per_user_month, on=['user_id', 'month_year'], how='outer')\n",
    "\n",
    "monthly_data = pd.merge(monthly_data, messages_per_user_month, on=['user_id', 'month_year'], how='outer')\n",
    "\n",
    "monthly_data = pd.merge(monthly_data, data_per_user_month, on=['user_id', 'month_year'], how='outer')\n",
    "\n",
    "# Rellenar los valores NaN con 0, asumiendo que NaN significa que no hubo actividad en esa categoría\n",
    "monthly_data.fillna(0, inplace=True)\n"
   ]
  },
  {
   "cell_type": "code",
   "execution_count": 246,
   "metadata": {
    "id": "0dNOXHag0q1H"
   },
   "outputs": [
    {
     "name": "stdout",
     "output_type": "stream",
     "text": [
      "      user_id month_year  calls_per_month  minutes_per_month  \\\n",
      "12       1004    2018-07             49.0              381.0   \n",
      "1850     1403    2018-12             33.0              231.0   \n",
      "1774     1390    2018-04             52.0              365.0   \n",
      "643      1140    2018-08             89.0              577.0   \n",
      "2278     1194    2018-08              0.0                0.0   \n",
      "\n",
      "      messages_per_month  gb_used      plan  \n",
      "12                  26.0     24.0      surf  \n",
      "1850                 0.0     23.0  ultimate  \n",
      "1774                 0.0     14.0  ultimate  \n",
      "643                 13.0     21.0      surf  \n",
      "2278                10.0      6.0      surf  \n"
     ]
    }
   ],
   "source": [
    "# Añade la información de la tarifa\n",
    "monthly_data = pd.merge(monthly_data, users[['user_id', 'plan']], on='user_id', how='left')\n",
    "\n",
    "print(monthly_data.sample(5))"
   ]
  },
  {
   "cell_type": "code",
   "execution_count": 247,
   "metadata": {
    "id": "5FGCf_c60q1I"
   },
   "outputs": [
    {
     "name": "stdout",
     "output_type": "stream",
     "text": [
      "      user_id month_year  calls_per_month  minutes_per_month  \\\n",
      "957      1203    2018-12             69.0              483.0   \n",
      "365      1077    2018-06            100.0              716.0   \n",
      "749      1160    2018-08             78.0              642.0   \n",
      "1722     1379    2018-12            144.0             1103.0   \n",
      "1705     1374    2018-06             60.0              414.0   \n",
      "\n",
      "      messages_per_month  gb_used      plan  monthly_revenue  \n",
      "957                 46.0     13.0      surf            20.00  \n",
      "365                 81.0     16.0  ultimate            70.00  \n",
      "749                 24.0     23.0      surf           104.26  \n",
      "1722               126.0     70.0      surf           590.37  \n",
      "1705                66.0     35.0      surf           220.48  \n"
     ]
    }
   ],
   "source": [
    "# Calcula el ingreso mensual para cada usuario\n",
    "# Definir los límites y tarifas de los planes\n",
    "plan_details = {\n",
    "    'surf': {\n",
    "        'monthly_fee': 20,\n",
    "        'minutes_included': 500,\n",
    "        'messages_included': 50,\n",
    "        'data_included': 15, \n",
    "        'usd_per_minute': 0.03,\n",
    "        'usd_per_message': 0.03,\n",
    "        'usd_per_gb': 10\n",
    "    },\n",
    "    'ultimate': {\n",
    "        'monthly_fee': 70,\n",
    "        'minutes_included': 3000,\n",
    "        'messages_included': 1000,\n",
    "        'data_included': 30,  \n",
    "        'usd_per_minute': 0.01,\n",
    "        'usd_per_message': 0.01,\n",
    "        'usd_per_gb': 7\n",
    "    }\n",
    "}\n",
    "\n",
    "def calculate_revenue(row):\n",
    "    plan = row['plan']\n",
    "    # Límites y tarifas del plan del usuario\n",
    "    limits = plan_details[plan]\n",
    "    \n",
    "    # Excedentes\n",
    "    extra_minutes = max(0, row['minutes_per_month'] - limits['minutes_included'])\n",
    "    extra_messages = max(0, row['messages_per_month'] - limits['messages_included'])\n",
    "    extra_data = max(0, row['gb_used'] - limits['data_included'])\n",
    "    \n",
    "    # Costes de excedentes\n",
    "    extra_minutes_cost = extra_minutes * limits['usd_per_minute']\n",
    "    extra_messages_cost = extra_messages * limits['usd_per_message']\n",
    "    extra_data_cost = extra_data * limits['usd_per_gb']  \n",
    "    \n",
    "    total_revenue = limits['monthly_fee'] + extra_minutes_cost + extra_messages_cost + extra_data_cost\n",
    "    return total_revenue\n",
    "\n",
    "monthly_data['monthly_revenue'] = monthly_data.apply(calculate_revenue, axis=1)\n",
    "\n",
    "print(monthly_data.sample(5))"
   ]
  },
  {
   "cell_type": "markdown",
   "metadata": {
    "id": "-jtyHzJb0q1I"
   },
   "source": [
    "## Estudia el comportamiento de usuario"
   ]
  },
  {
   "cell_type": "markdown",
   "metadata": {
    "id": "AxU3Y0N70q1J"
   },
   "source": [
    "[Calcula algunas estadísticas descriptivas para los datos agregados y fusionados que nos sean útiles y que muestren un panorama general captado por los datos. Dibuja gráficos útiles para facilitar la comprensión. Dado que la tarea principal es comparar las tarifas y decidir cuál es más rentable, las estadísticas y gráficas deben calcularse por tarifa.]\n",
    "\n",
    "[En los comentarios hallarás pistas relevantes para las llamadas, pero no las hay para los mensajes e Internet. Sin embargo, el principio del estudio estadístico que se aplica para ellos es el mismo que para las llamadas.]"
   ]
  },
  {
   "cell_type": "markdown",
   "metadata": {
    "id": "vtW4CJEe0q1J"
   },
   "source": [
    "### Llamadas"
   ]
  },
  {
   "cell_type": "code",
   "execution_count": 248,
   "metadata": {
    "id": "Jf5v5--k0q1J"
   },
   "outputs": [
    {
     "data": {
      "image/png": "[encoded data removed]",
      "text/plain": [
       "<Figure size 1008x504 with 1 Axes>"
      ]
     },
     "metadata": {
      "needs_background": "light"
     },
     "output_type": "display_data"
    }
   ],
   "source": [
    "# Compara la duración promedio de llamadas por cada plan y por cada mes. Traza un gráfico de barras para visualizarla.\n",
    "average_call_duration = monthly_data.groupby(['plan', 'month_year'])['minutes_per_month'].mean().unstack(0)  \n",
    "\n",
    "average_call_duration.plot(kind='bar',\n",
    "                           figsize=(14, 7), \n",
    "                           title='Average Call Duration per Plan per Month', \n",
    "                           xlabel = 'Month', \n",
    "                           label = 'Average call duration (minutes)',\n",
    "                           )\n",
    "plt.show()\n"
   ]
  },
  {
   "cell_type": "code",
   "execution_count": 249,
   "metadata": {
    "id": "QoLqW1S_0q1J"
   },
   "outputs": [
    {
     "data": {
      "image/png": "[encoded data removed]",
      "text/plain": [
       "<Figure size 1008x504 with 1 Axes>"
      ]
     },
     "metadata": {
      "needs_background": "light"
     },
     "output_type": "display_data"
    }
   ],
   "source": [
    "# Compara el número de minutos mensuales que necesitan los usuarios de cada plan. Traza un histograma.\n",
    "surf_minutes = monthly_data[monthly_data['plan'] == 'surf']['minutes_per_month']\n",
    "ultimate_minutes = monthly_data[monthly_data['plan'] == 'ultimate']['minutes_per_month']\n",
    "\n",
    "plt.figure(figsize=(14, 7))\n",
    "plt.hist(surf_minutes, bins=15, alpha=0.5, label='Surf', color='blue')\n",
    "plt.hist(ultimate_minutes, bins=15, alpha=0.5, label='Ultimate', color='red')\n",
    "plt.title('Distribution of Monthly Minutes Usage per Plan')\n",
    "plt.xlabel('Monthly Minutes Used')\n",
    "plt.ylabel('Frequency')\n",
    "plt.legend(title='Plan')\n",
    "plt.show()"
   ]
  },
  {
   "cell_type": "code",
   "execution_count": 250,
   "metadata": {
    "id": "oSndbAnt0q1K"
   },
   "outputs": [
    {
     "name": "stdout",
     "output_type": "stream",
     "text": [
      "       plan        mean           var  median         std  mode\n",
      "0      surf  428.749523  54968.279461   425.0  234.453150   0.0\n",
      "1  ultimate  430.450000  57844.464812   424.0  240.508762   0.0\n",
      "count    2293.000000\n",
      "mean      429.283471\n",
      "std       236.320077\n",
      "min         0.000000\n",
      "25%       265.000000\n",
      "50%       425.000000\n",
      "75%       572.000000\n",
      "max      1510.000000\n",
      "Name: minutes_per_month, dtype: float64\n",
      "       plan  adjusted_mode\n",
      "0      surf          413.0\n",
      "1  ultimate          432.0\n"
     ]
    }
   ],
   "source": [
    "# Calcula la media y la varianza de la duración mensual de llamadas.\n",
    "mean_var_by_plan = monthly_data.groupby('plan')['minutes_per_month'].agg(['mean', 'var', 'median', 'std']).reset_index()\n",
    "mean_var_by_plan['mode'] = monthly_data.groupby('plan')['minutes_per_month'].agg(pd.Series.mode).reset_index()['minutes_per_month']\n",
    "\n",
    "print(mean_var_by_plan)\n",
    "print(monthly_data['minutes_per_month'].describe())\n",
    "\n",
    "adjusted_mode_by_plan = monthly_data[monthly_data['minutes_per_month'] > 0].groupby('plan')['minutes_per_month'].agg(lambda x: x.mode().iloc[0] if not x.mode().empty else 'No mode').reset_index(name='adjusted_mode')\n",
    "\n",
    "print(adjusted_mode_by_plan)"
   ]
  },
  {
   "cell_type": "code",
   "execution_count": 251,
   "metadata": {
    "id": "nZzoRUKc0q1K"
   },
   "outputs": [
    {
     "data": {
      "image/png": "[encoded data removed]",
      "text/plain": [
       "<Figure size 576x432 with 1 Axes>"
      ]
     },
     "metadata": {
      "needs_background": "light"
     },
     "output_type": "display_data"
    }
   ],
   "source": [
    "# Traza un diagrama de caja para visualizar la distribución de la duración mensual de llamadas\n",
    "surf_data = monthly_data[monthly_data['plan'] == 'surf']['minutes_per_month']\n",
    "ultimate_data = monthly_data[monthly_data['plan'] == 'ultimate']['minutes_per_month']\n",
    "\n",
    "# Diagrama de caja\n",
    "plt.figure(figsize=(8, 6))\n",
    "plt.boxplot([surf_data.dropna(), ultimate_data.dropna()], labels=['Surf', 'Ultimate'])\n",
    "plt.title('Distribution of Monthly Call Duration per Plan')\n",
    "plt.ylabel('Minutes per Month')\n",
    "plt.xlabel('Plan')\n",
    "plt.grid(True)\n",
    "plt.show()\n"
   ]
  },
  {
   "cell_type": "markdown",
   "metadata": {
    "id": "r627zBO50q1K"
   },
   "source": [
    "La distribución de los minutos en el plan Ultimate parece ser más consistente con menos valores atípicos, indicando un uso más uniforme de los minutos de llamadas.\n",
    "\n",
    "\n",
    "El plan Surf muestra varios valores atípicos, lo que indica que hay algunos usuarios que utilizan significativamente más minutos de los típicos para ese plan.\n",
    "El plan Ultimate también tiene valores atípicos, pero son menos en comparación y menos extremos que en el plan Surf.\n",
    "\n",
    "\n",
    "Los valores atípicos en el plan Surf podrían indicar que algunos usuarios de este plan podrían beneficiarse al cambiarse al plan Ultimate, dependiendo de otros factores como el uso de datos y mensajes.\n",
    "La mayor uniformidad en el uso de llamadas en el plan Ultimate podría reflejar que los usuarios de este plan están más satisfechos con los límites de llamadas o que su estilo de vida o necesidades de trabajo justifican un uso más alto y consistente.\n",
    "\n",
    "Los datos de duración mensual de llamadas para los planes Surf y Ultimate muestran estadísticas bastante similares en términos de media, varianza, mediana y desviación estándar, indicando patrones de uso consistentes entre los planes. Ambos planes tienen una duración media de llamadas cercana a 430 minutos, con una dispersión significativa como lo demuestra la desviación estándar de aproximadamente 234 para Surf y 240 para Ultimate. La moda original de 0 minutos sugiere que hay registros con duraciones de llamadas no conectadas o errores en la recolección de datos. Sin embargo, al ajustar la moda para excluir los ceros, se observa que los minutos más comunes son 413 para Surf y 432 para Ultimate, reflejando un uso más típico y activo de los servicios telefónicos. Estos resultados ajustados proporcionan una visión más realista y útil del comportamiento de llamadas de los usuarios bajo cada plan."
   ]
  },
  {
   "cell_type": "markdown",
   "metadata": {
    "id": "8idKy8Wh0q1L"
   },
   "source": [
    "### Mensajes"
   ]
  },
  {
   "cell_type": "code",
   "execution_count": 252,
   "metadata": {
    "id": "NXLxiTit0q1L"
   },
   "outputs": [
    {
     "data": {
      "image/png": "[encoded data removed]",
      "text/plain": [
       "<Figure size 864x432 with 1 Axes>"
      ]
     },
     "metadata": {
      "needs_background": "light"
     },
     "output_type": "display_data"
    }
   ],
   "source": [
    "# Comprara el número de mensajes que tienden a enviar cada mes los usuarios de cada plan\n",
    "messages_surf = monthly_data[monthly_data['plan'] == 'surf']['messages_per_month']\n",
    "messages_ultimate = monthly_data[monthly_data['plan'] == 'ultimate']['messages_per_month']\n",
    "\n",
    "     \n",
    "\n",
    "messages_ultimate.plot(kind='hist',\n",
    "                  figsize=(12, 6),\n",
    "                  bins=20,\n",
    "                  alpha=0.5,\n",
    "                  label='Ultimate',\n",
    "                   color='green',\n",
    "                      legend =True)\n",
    "plt.show()"
   ]
  },
  {
   "cell_type": "code",
   "execution_count": 253,
   "metadata": {
    "id": "GRI_R7xF0q1L",
    "scrolled": false
   },
   "outputs": [
    {
     "name": "stdout",
     "output_type": "stream",
     "text": [
      "       plan       mean     variance  median    std_dev  mode\n",
      "0      surf  31.159568  1126.724522    24.0  33.566717   0.0\n",
      "1  ultimate  37.551389  1208.756744    30.0  34.767179   0.0\n"
     ]
    },
    {
     "data": {
      "image/png": "[encoded data removed]",
      "text/plain": [
       "<Figure size 1008x504 with 1 Axes>"
      ]
     },
     "metadata": {
      "needs_background": "light"
     },
     "output_type": "display_data"
    }
   ],
   "source": [
    "# Media y la varianza de los mensajes enviados por cada plan\n",
    "stats_msgs = monthly_data.groupby('plan')['messages_per_month'].agg(['mean', 'var', 'median', 'std', lambda x: x.mode()[0]]).reset_index()\n",
    "stats_msgs.columns = ['plan', 'mean', 'variance', 'median', 'std_dev', 'mode']\n",
    "\n",
    "print(stats_msgs)\n",
    "\n",
    "monthly_message_counts = monthly_data.groupby(['month_year', 'plan'])['messages_per_month'].sum().unstack()\n",
    "\n",
    "monthly_message_counts.plot(kind='bar', \n",
    "                            figsize=(14, 7),\n",
    "                            title='Total Messages Sent per Month by Plan',\n",
    "                            xlabel='Month and Year',\n",
    "                            ylabel='Total Messages Sent',\n",
    "                            legend=True)\n",
    "\n",
    "plt.show()"
   ]
  },
  {
   "cell_type": "code",
   "execution_count": 254,
   "metadata": {
    "id": "dtFwCGAp0q1M"
   },
   "outputs": [
    {
     "data": {
      "image/png": "[encoded data removed]",
      "text/plain": [
       "<Figure size 720x432 with 1 Axes>"
      ]
     },
     "metadata": {
      "needs_background": "light"
     },
     "output_type": "display_data"
    }
   ],
   "source": [
    "msgs_surf = monthly_data[monthly_data['plan'] == 'surf']['messages_per_month']\n",
    "msgs_ultimate = monthly_data[monthly_data['plan'] == 'ultimate']['messages_per_month']\n",
    "\n",
    "plt.figure(figsize=(10, 6))\n",
    "plt.boxplot([msgs_surf.dropna(), msgs_ultimate.dropna()], labels=['Surf', 'Ultimate'])\n",
    "plt.title('Box Plot of Messages Sent per Month by Plan')\n",
    "plt.ylabel('Number of Messages')\n",
    "plt.grid(True)\n",
    "plt.show()"
   ]
  },
  {
   "cell_type": "markdown",
   "metadata": {
    "id": "390SSL480q1M"
   },
   "source": [
    "Análisis de los Gráficos y Estadísticas:\n",
    "\n",
    "Histograma de Mensajes:\n",
    "Los histogramas muestran que la mayoría de los usuarios del plan Surf tienden a enviar menos mensajes (concentrados en el rango bajo de 0-50 mensajes por mes), mientras que los del plan Ultimate tienen una distribución más amplia y extendida.\n",
    "Aunque la mayoría de los usuarios de ambos planes envían cantidades moderadas de mensajes, el plan Ultimate muestra una distribución un poco más extendida hacia cantidades mayores.\n",
    "\n",
    "Diagrama de Cajas:\n",
    "El diagrama de cajas revela la caja es más amplia en el plan Ultimate, indicando una mayor dispersión en el número de mensajes enviados comparado con el plan Surf.\n",
    "Los valores atípicos son más numerosos en el plan Surf, sugiriendo que un número significativo de usuarios envía mucho más mensajes de lo típico para ese plan.\n",
    "\n",
    "El gráfico de barras muestra claramente que el los usuarios del plan Surf envían más mensajes en comparación con los del plan Ultimate, pero esta diferencia podría explicarse principalmente por la mayor cantidad de usuarios en el plan Surf en lugar de una mayor actividad de mensajería individual. Aunque el plan Ultimate tiene un promedio de mensajes por usuario mayor, lo que indica que, individualmente, estos usuarios pueden ser más activos en mensajería. Esto se refleja en el análisis estadístico donde el promedio y otras medidas de centralidad son más altas para el plan Ultimate comparado con Surf, sugiriendo que los usuarios de Ultimate utilizan más intensivamente el servicio de mensajes, probablemente influenciado por las mayores inclusiones que ofrece el plan.\n",
    "\n",
    "Desde una perspectiva estadística, los usuarios del plan Surf tienen una media de mensajes enviados por mes ligeramente inferior a la de los usuarios del plan Ultimate, pero la varianza en el plan Surf es menor que en Ultimate, lo que indica que el número de mensajes enviados por los usuarios de Surf es más consistente mes a mes comparado con los de Ultimate. Esto es respaldado por las medidas de tendencia central y dispersión como la media y la desviación estándar respectivamente, donde el plan Surf muestra menos dispersión en los datos, evidenciando una homogeneidad mayor en el comportamiento de envío de mensajes entre sus usuarios.\n",
    "\n",
    "Comportamiento de los usuarios por plan:\n",
    "\n",
    "Plan Surf\n",
    "\n",
    "Menor uso promedio de mensajes: La media de mensajes enviados es más baja para los usuarios del plan Surf en comparación con los del plan Ultimate, lo que sugiere que, en general, los usuarios de Surf son menos activos en el envío de mensajes.\n",
    "Alta varianza y valores atípicos significativos: Aunque la mayoría de los usuarios de Surf envían menos mensajes, hay un número considerable de valores atípicos que envían muchos más mensajes de lo común. Esto indica que hay una minoría de usuarios en el plan Surf cuyo uso de mensajería es extremadamente alto, posiblemente más allá de los límites que el plan les ofrece de manera económica.\n",
    "Posible necesidad de revisión de plan: Los valores atípicos en el plan Surf sugieren que, aunque el plan puede ser adecuado para la mayoría, no se ajusta bien a las necesidades de todos los usuarios, especialmente aquellos que están activamente utilizando el servicio de mensajería.\n",
    "\n",
    "Plan Ultimate\n",
    "\n",
    "Uso más alto y consistente: Los usuarios del plan Ultimate tienden a enviar más mensajes en promedio, y la distribución de sus mensajes es más uniforme, como lo demuestra una varianza ligeramente superior. Esto puede reflejar un ajuste más adecuado del límite de mensajes que el plan proporciona.\n",
    "Menos valores atípicos en relación con la mediana: Aunque también hay valores atípicos en el plan Ultimate, estos no son tan prominentes comparados con la mediana y la mayoría de los datos, lo que indica que el plan Ultimate es suficiente para las necesidades de mensajería de la mayoría de sus usuarios."
   ]
  },
  {
   "cell_type": "markdown",
   "metadata": {
    "id": "42YSypXz0q1M"
   },
   "source": [
    "### Internet"
   ]
  },
  {
   "cell_type": "code",
   "execution_count": 255,
   "metadata": {
    "id": "lSuKPtjh0q1M"
   },
   "outputs": [
    {
     "data": {
      "image/png": "[encoded data removed]",
      "text/plain": [
       "<Figure size 864x432 with 1 Axes>"
      ]
     },
     "metadata": {
      "needs_background": "light"
     },
     "output_type": "display_data"
    }
   ],
   "source": [
    "# Compara la cantidad de tráfico de Internet consumido por usuarios por plan\n",
    "data_surf = monthly_data[monthly_data['plan'] == 'surf']['gb_used']\n",
    "data_ultimate = monthly_data[monthly_data['plan'] == 'ultimate']['gb_used']\n",
    "\n",
    "data_surf.plot(kind='hist',\n",
    "               figsize=(12, 6),\n",
    "               bins=20, \n",
    "               alpha=0.5, \n",
    "               label='Surf', \n",
    "               legend=True,\n",
    "               color='red',\n",
    "               title='Distribution of Internet Traffic per Month by Plan',\n",
    "               xlabel='Data Used (MB)',\n",
    "               ylabel='Frequency')\n",
    "data_ultimate.plot(kind='hist',\n",
    "               figsize=(12, 6),\n",
    "               bins=20, \n",
    "               alpha=0.5, \n",
    "               label='Ultimate', \n",
    "               legend=True,\n",
    "               color='yellow',)\n",
    "plt.show()"
   ]
  },
  {
   "cell_type": "code",
   "execution_count": 256,
   "metadata": {
    "id": "wnh8jYXi0q1N"
   },
   "outputs": [
    {
     "name": "stdout",
     "output_type": "stream",
     "text": [
      "       plan       mean       var  median       std  mode\n",
      "0      surf  16.670693  61.58360    17.0  7.847522  18.0\n",
      "1  ultimate  17.306944  58.83055    17.0  7.670108  17.0\n"
     ]
    },
    {
     "data": {
      "image/png": "[encoded data removed]",
      "text/plain": [
       "<Figure size 1008x504 with 1 Axes>"
      ]
     },
     "metadata": {
      "needs_background": "light"
     },
     "output_type": "display_data"
    }
   ],
   "source": [
    "# Calcula la media y la varianza del uso de internet por cada plan\n",
    "statistical_summary = monthly_data.groupby('plan')['gb_used'].agg(['mean', 'var', 'median', 'std', lambda x: x.mode()[0] if not x.mode().empty else 'No mode']).reset_index()\n",
    "statistical_summary = statistical_summary.rename(columns={'<lambda_0>': 'mode'})\n",
    "print(statistical_summary)\n",
    "\n",
    "\n",
    "total_data_usage = monthly_data.groupby(['plan', 'month_year'])['gb_used'].sum().unstack(0)\n",
    "\n",
    "# Gráfico de barras para visualizar el uso total de internet por mes y por plan\n",
    "total_data_usage.plot(kind='bar',\n",
    "                      figsize=(14, 7),\n",
    "                      title='Total Internet Data Usage per Month by Plan',\n",
    "                      xlabel='Month and Year',\n",
    "                      ylabel='Total Data Used (GB)',\n",
    "                      color=['red', 'yellow'],\n",
    "                      alpha=0.7)\n",
    "plt.legend(title='Plan')\n",
    "plt.show()"
   ]
  },
  {
   "cell_type": "code",
   "execution_count": 257,
   "metadata": {
    "id": "5VlyJ9ry0q1N"
   },
   "outputs": [
    {
     "data": {
      "image/png": "[encoded data removed]",
      "text/plain": [
       "<Figure size 720x432 with 1 Axes>"
      ]
     },
     "metadata": {
      "needs_background": "light"
     },
     "output_type": "display_data"
    }
   ],
   "source": [
    "net_surf = monthly_data[monthly_data['plan'] == 'surf']['gb_used']\n",
    "net_ultimate = monthly_data[monthly_data['plan'] == 'ultimate']['gb_used']\n",
    "\n",
    "plt.figure(figsize=(10, 6))\n",
    "plt.boxplot([net_surf.dropna(), net_ultimate.dropna()], labels=['Surf', 'Ultimate'])\n",
    "plt.title('Box Plot of Internet Data Usage per Month by Plan')\n",
    "plt.ylabel('Data Used (GB)')\n",
    "plt.grid(True)\n",
    "plt.show()\n"
   ]
  },
  {
   "cell_type": "markdown",
   "metadata": {
    "id": "UN9zwuMP0q1N"
   },
   "source": [
    "Histograma de Uso de Internet:\n",
    "El histograma muestra que ambos planes tienen una distribución considerable de uso de datos, pero el plan Ultimate tiende a tener un rango ligeramente más alto de uso, evidenciado por la media mayor (17.3 GB para Ultimate vs 16.6 GB para Surf).\n",
    "Ambos planes presentan una amplia distribución de uso de datos, pero el plan Ultimate parece ser ligeramente más consistente, como se indica por una varianza ligeramente menor que la del plan Surf.\n",
    "\n",
    "Diagrama de Cajas:\n",
    "Los diagramas de cajas muestran que la mediana y los cuartiles son similares entre ambos planes, pero Surf tiene más valores atípicos altos, lo que sugiere que algunos usuarios en el plan Surf tienen un uso de datos excepcionalmente alto comparado con la mayoría de los usuarios en el mismo plan.\n",
    "Los valores atípicos en Surf son prominentes y podrían indicar que algunos usuarios podrían beneficiarse de un plan con una mayor asignación de datos, o posiblemente estén incurriendo en costos adicionales debido a la superación de los límites de datos incluidos.\n",
    "\n",
    "El gráfico de barras junto con las estadísticas indican que, aunque en total los usuarios del plan Surf parecen usar más datos mensualmente hacia el final del año, esto no necesariamente implica un mayor uso individual de internet por usuario en comparación con el plan Ultimate. La confusión puede surgir del hecho de que hay más usuarios en el plan Surf, como se refleja en los volúmenes acumulados mensualmente que incrementan significativamente para este plan. Individualmente, los usuarios del plan Ultimate consumen más datos en promedio, como lo sugieren las medias y medianas más altas en comparación con el plan Surf. Esto indica que, aunque en total el plan Surf muestre un mayor uso, esto se debe a la cantidad de usuarios, no necesariamente a un mayor uso individual."
   ]
  },
  {
   "cell_type": "markdown",
   "metadata": {
    "id": "tCijq3260q1N"
   },
   "source": [
    "## Ingreso"
   ]
  },
  {
   "cell_type": "markdown",
   "metadata": {
    "id": "9nq5IAcy0q1O"
   },
   "source": [
    "[Del mismo modo que has estudiado el comportamiento de los usuarios, describe estadísticamente los ingresos de los planes.]"
   ]
  },
  {
   "cell_type": "code",
   "execution_count": 258,
   "metadata": {
    "id": "tz-dq_V00q1O"
   },
   "outputs": [
    {
     "data": {
      "image/png": "[encoded data removed]",
      "text/plain": [
       "<Figure size 864x576 with 1 Axes>"
      ]
     },
     "metadata": {
      "needs_background": "light"
     },
     "output_type": "display_data"
    }
   ],
   "source": [
    "revenue_by_plan_month = monthly_data.groupby(['month_year', 'plan'])['monthly_revenue'].sum().unstack()\n",
    "revenue_by_plan_month.plot(kind='bar',\n",
    "                           figsize=(12, 8),\n",
    "                           width=0.8,  \n",
    "                           alpha=0.7,  \n",
    "                           title='Monthly Revenue by Plan',\n",
    "                           xlabel='Month',\n",
    "                           ylabel='Total Revenue',\n",
    "                           rot=45,  \n",
    "                           legend=True)  \n",
    "plt.show()"
   ]
  },
  {
   "cell_type": "code",
   "execution_count": 259,
   "metadata": {
    "id": "0Y1v8ZUz0q1P"
   },
   "outputs": [
    {
     "data": {
      "image/png": "[encoded data removed]",
      "text/plain": [
       "<Figure size 864x576 with 1 Axes>"
      ]
     },
     "metadata": {
      "needs_background": "light"
     },
     "output_type": "display_data"
    }
   ],
   "source": [
    "cumulative_revenue = revenue_by_plan_month.cumsum()\n",
    "\n",
    "cumulative_revenue.plot(kind='line',\n",
    "                        figsize=(12, 8),\n",
    "                        title='Cumulative Monthly Revenue by Plan',\n",
    "                        xlabel='Month',\n",
    "                        ylabel='Cumulative Revenue',\n",
    "                        grid=True,\n",
    "                        legend=True)\n",
    "plt.show()"
   ]
  },
  {
   "cell_type": "code",
   "execution_count": 268,
   "metadata": {
    "id": "bYmwxyVh0q1P"
   },
   "outputs": [
    {
     "name": "stdout",
     "output_type": "stream",
     "text": [
      "       plan     Total    Average  Maximum  Minimum  Median  Mode    Std Dev\n",
      "0      surf  95491.18  60.706408   590.37     20.0   40.36  20.0  55.388042\n",
      "1  ultimate  52066.00  72.313889   182.00     70.0   70.00  70.0  11.395108\n"
     ]
    },
    {
     "data": {
      "text/plain": [
       "<Figure size 720x432 with 0 Axes>"
      ]
     },
     "metadata": {},
     "output_type": "display_data"
    },
    {
     "data": {
      "image/png": "[encoded data removed]",
      "text/plain": [
       "<Figure size 432x288 with 1 Axes>"
      ]
     },
     "metadata": {
      "needs_background": "light"
     },
     "output_type": "display_data"
    }
   ],
   "source": [
    "revenue_statistics = monthly_data.groupby('plan')['monthly_revenue'].agg([\n",
    "    'sum', 'mean', 'max', 'min', 'median', lambda x: x.mode()[0], 'std'\n",
    "]).rename(columns={\n",
    "    'sum': 'Total',\n",
    "    'mean': 'Average',\n",
    "    'max': 'Maximum',\n",
    "    'min': 'Minimum',\n",
    "    'median': 'Median',\n",
    "    '<lambda_0>': 'Mode',\n",
    "    'std': 'Std Dev'\n",
    "}).reset_index()\n",
    "\n",
    "print(revenue_statistics)\n",
    "\n",
    "\n",
    "plt.figure(figsize=(10, 6))\n",
    "monthly_data.boxplot(column='monthly_revenue', by='plan')\n",
    "plt.title('Boxplot of Monthly Revenue by Plan')\n",
    "plt.xlabel('Plan')\n",
    "plt.ylabel('Monthly Revenue ($)')\n",
    "plt.suptitle('')# Remove the default subtitle to clean up the plot\n",
    "plt.show()"
   ]
  },
  {
   "cell_type": "markdown",
   "metadata": {
    "id": "KAFidcXZ0q1P"
   },
   "source": [
    "Los gráficos muestran que los ingresos mensuales y acumulados son consistentemente más altos para el plan Surf a pesar de tener un precio más bajo por plan. Esto puede indicar un mayor número de usuarios o un mayor consumo de servicios fuera del paquete incluido que genera cargos adicionales.\n",
    "El plan Ultimate, aunque más caro, genera menos ingresos totales, lo que podría indicar una menor cantidad de usuarios o un mejor ajuste entre los servicios incluidos en el plan y el uso por parte de los usuarios.\n",
    "\n",
    "\n",
    "Suma Total de Ingresos: El plan Surf genera significativamente más ingresos totales (90,719) comparado con el Ultimate (51,923), lo cual es notable dado que el costo base del plan Ultimate es mucho mayor.\n",
    "\n",
    "Ingreso Promedio por Usuario: El ingreso promedio por usuario es mayor en el plan Ultimate (72.12) comparado con el Surf (57.67). Esto refleja que, aunque menos usuarios pueden estar en el plan Ultimate, cada uno tiende a generar más ingreso en promedio, posiblemente debido a un mayor uso de los servicios que superan los límites del plan.\n",
    "\n",
    "Máximos y Mínimos: Los ingresos máximos por usuario en el plan Surf son excepcionalmente altos (583.06) comparados con los del plan Ultimate (178.52), sugiriendo que algunos usuarios de Surf incurren en costos mucho mayores, posiblemente debido a sobrepasar significativamente los límites de su plan. Los mínimos reflejan el costo base de cada plan."
   ]
  },
  {
   "cell_type": "markdown",
   "metadata": {
    "id": "ajJ7VKeI0q1Q"
   },
   "source": [
    "## Prueba las hipótesis estadísticas"
   ]
  },
  {
   "cell_type": "code",
   "execution_count": 270,
   "metadata": {
    "id": "nFoPNlPq0q1R"
   },
   "outputs": [
    {
     "name": "stdout",
     "output_type": "stream",
     "text": [
      "Levene Statistic: 404.7301727752691\n",
      "P-value for Levene's test: 5.028876110654919e-83\n",
      "T-statistic: -7.95209489133389\n",
      "P-value: 3.17039054811355e-15\n",
      "Rechazamos la hipótesis nula: Existen diferencias significativas en los ingresos promedio entre los planes.\n"
     ]
    }
   ],
   "source": [
    "from scipy.stats import levene, ttest_ind\n",
    "# Prueba las hipótesis\n",
    "\n",
    "# Ingresos por plan\n",
    "ingresos_surf = monthly_data[monthly_data['plan'] == 'surf']['monthly_revenue']\n",
    "ingresos_ultimate = monthly_data[monthly_data['plan'] == 'ultimate']['monthly_revenue']\n",
    "\n",
    "# Prueba de Levene para igualdad de varianzas\n",
    "levene_stat, levene_p = levene(ingresos_surf, ingresos_ultimate)\n",
    "\n",
    "print(\"Levene Statistic:\", levene_stat)\n",
    "print(\"P-value for Levene's test:\", levene_p)\n",
    "\n",
    "# Determinar el valor de equal_var basado en el p-value de Levene\n",
    "equal_var = levene_p > 0.05\n",
    "\n",
    "# Prueba t de Student con el parámetro correcto de equal_var\n",
    "t_stat, p_value = ttest_ind(ingresos_surf, ingresos_ultimate, equal_var=equal_var)\n",
    "\n",
    "print(\"T-statistic:\", t_stat)\n",
    "print(\"P-value:\", p_value)\n",
    "\n",
    "# Interpretación de la prueba t\n",
    "if p_value < 0.05:\n",
    "    print(\"Rechazamos la hipótesis nula: Existen diferencias significativas en los ingresos promedio entre los planes.\")\n",
    "else:\n",
    "    print(\"No rechazamos la hipótesis nula: No existen diferencias significativas en los ingresos promedio entre los planes.\")\n",
    "\n"
   ]
  },
  {
   "cell_type": "code",
   "execution_count": 262,
   "metadata": {
    "id": "Cqcj7wrZ0q1S"
   },
   "outputs": [
    {
     "name": "stdout",
     "output_type": "stream",
     "text": [
      "T-statistic: -2.1309454999502133\n",
      "P-value: 0.03352561588530014\n",
      "Rechazamos la hipótesis nula: Hay diferencias significativas en los ingresos promedio entre el área NY-NJ y otras regiones.\n"
     ]
    }
   ],
   "source": [
    "# Prueba las hipótesis\n",
    "combined_data = pd.merge(monthly_data, users[['user_id', 'city']], on='user_id', how='left')\n",
    "\n",
    "# ingresos por región\n",
    "ingresos_nynj = combined_data[combined_data['city'].str.contains(\"NY-NJ\")]['monthly_revenue']\n",
    "ingresos_otros = combined_data[~combined_data['city'].str.contains(\"NY-NJ\")]['monthly_revenue']\n",
    "\n",
    "t_stat, p_value = stats.ttest_ind(ingresos_nynj, ingresos_otros, equal_var=False)\n",
    "\n",
    "print(\"T-statistic:\", t_stat)\n",
    "print(\"P-value:\", p_value)\n",
    "\n",
    "if p_value < 0.05:\n",
    "    print(\"Rechazamos la hipótesis nula: Hay diferencias significativas en los ingresos promedio entre el área NY-NJ y otras regiones.\")\n",
    "else:\n",
    "    print(\"No rechazamos la hipótesis nula: No hay diferencias significativas en los ingresos promedio entre el área NY-NJ y otras regiones.\")"
   ]
  },
  {
   "cell_type": "markdown",
   "metadata": {
    "id": "bbTR8UQO0q1T"
   },
   "source": [
    "## Conclusión general\n",
    "\n",
    "Conclusión General del Proyecto\n",
    "A lo largo de este proyecto, hemos realizado un análisis exhaustivo de los datos de los clientes de Megaline para determinar qué plan de prepago, Surf o Ultimate, es más rentable y cómo varían los ingresos en diferentes regiones. Este análisis abarcó múltiples aspectos del comportamiento del cliente y el rendimiento financiero de los planes ofrecidos. Aquí se resumen las conclusiones clave de todo el proyecto:\n",
    "\n",
    "Comparación de Tarifas:\n",
    "Los análisis revelaron que el plan Surf, a pesar de tener una tarifa mensual más baja, generaba más ingresos totales que el plan Ultimate. Esto sugiere que los usuarios de Surf con frecuencia exceden sus límites de plan, incurriendo en cargos adicionales significativos.\n",
    "Por el contrario, los usuarios del plan Ultimate, aunque pagaban una tarifa mensual más alta, tendían a permanecer dentro de los límites de su plan, lo que resultaba en menores ingresos adicionales para Megaline.\n",
    "\n",
    "Comportamiento de Uso:\n",
    "El análisis del comportamiento de uso mostró que los usuarios de ambos planes tienen patrones distintos en términos de minutos de llamadas, mensajes enviados y uso de datos. Esto fue evidente en los histogramas y gráficos de cajas que mostraron distribuciones diferentes para cada plan.\n",
    "\n",
    "Análisis Regional:\n",
    "Se identificaron diferencias significativas en los ingresos promedio entre los usuarios en el área de NY-NJ en comparación con otras regiones. Esto puede implicar diferencias en las preferencias de plan o en el comportamiento de uso que podrían ser explotadas para optimizar las estrategias de marketing y ajustes regionales.\n",
    "\n",
    "Pruebas de Hipótesis:\n",
    "Las pruebas estadísticas confirmaron que existen diferencias significativas en los ingresos promedio tanto entre los planes como entre las regiones. Estos hallazgos apoyan la idea de que la estructura y estrategia de precios de Megaline pueden necesitar ajustes basados en la rentabilidad del plan y las características demográficas.\n",
    "\n",
    "Decisiones Metodológicas y Suposiciones:\n",
    "Se decidió agregar los datos a nivel mensual y por usuario para realizar un análisis más detallado y preciso.\n",
    "La integración de datos demográficos desde el DataFrame users al monthly_data fue crucial para realizar análisis regionalizados y validar hipótesis sobre ingresos geográficos.\n",
    "La selección de pruebas t para las pruebas de hipótesis se basó en la normalidad de los datos y la independencia de las muestras, utilizando versiones de la prueba que no asumen varianzas iguales debido a la naturaleza de los datos.\n",
    "\n",
    "Recomendaciones Estratégicas:\n",
    "Megaline debería considerar ajustes en el plan Surf para reducir los excesos frecuentes y mejorar la satisfacción del cliente.\n",
    "Las estrategias de marketing deben ser más personalizadas para abordar las diferencias regionales, especialmente aumentando la presencia en el área de NY-NJ.\n",
    "Es vital continuar con el análisis de tendencias a medida que se disponga de más datos para ajustar continuamente las ofertas y estrategias a las necesidades cambiantes de los clientes."
   ]
  }
 ],
 "metadata": {
  "ExecuteTimeLog": [
   {
    "duration": 828,
    "start_time": "2021-11-16T09:21:11.304Z"
   },
   {
    "duration": 893,
    "start_time": "2021-11-16T09:21:17.728Z"
   },
   {
    "duration": 1150,
    "start_time": "2021-11-16T09:21:29.568Z"
   },
   {
    "duration": 3,
    "start_time": "2021-11-16T09:24:14.495Z"
   },
   {
    "duration": 120,
    "start_time": "2021-11-16T09:24:46.630Z"
   },
   {
    "duration": 3,
    "start_time": "2021-11-16T09:28:27.882Z"
   },
   {
    "duration": 4,
    "start_time": "2021-11-16T09:29:54.281Z"
   },
   {
    "duration": 3,
    "start_time": "2021-11-16T09:30:45.936Z"
   },
   {
    "duration": 4,
    "start_time": "2021-11-16T09:31:06.300Z"
   },
   {
    "duration": 113,
    "start_time": "2021-11-16T09:31:37.208Z"
   },
   {
    "duration": 143,
    "start_time": "2021-11-16T09:31:48.656Z"
   },
   {
    "duration": 98,
    "start_time": "2021-11-16T09:31:55.678Z"
   },
   {
    "duration": 3,
    "start_time": "2021-11-16T09:32:08.535Z"
   },
   {
    "duration": 111,
    "start_time": "2021-11-16T09:32:10.120Z"
   },
   {
    "duration": 3,
    "start_time": "2021-11-16T09:32:15.732Z"
   },
   {
    "duration": 4,
    "start_time": "2021-11-16T09:32:29.423Z"
   },
   {
    "duration": 3,
    "start_time": "2021-11-16T10:03:03.074Z"
   },
   {
    "duration": 3,
    "start_time": "2021-11-16T10:10:01.288Z"
   },
   {
    "duration": 3,
    "start_time": "2021-11-16T10:10:46.923Z"
   },
   {
    "duration": 121,
    "start_time": "2021-11-16T10:37:46.494Z"
   },
   {
    "duration": 125,
    "start_time": "2021-11-16T10:38:20.632Z"
   },
   {
    "duration": 112,
    "start_time": "2021-11-16T10:46:53.001Z"
   },
   {
    "duration": 110,
    "start_time": "2021-11-16T10:48:25.775Z"
   },
   {
    "duration": 3,
    "start_time": "2021-11-16T10:50:18.720Z"
   },
   {
    "duration": 4,
    "start_time": "2021-11-16T10:50:37.649Z"
   },
   {
    "duration": 2,
    "start_time": "2021-11-16T10:50:51.884Z"
   },
   {
    "duration": 3,
    "start_time": "2021-11-16T10:51:56.237Z"
   },
   {
    "duration": 101,
    "start_time": "2021-11-16T10:53:13.791Z"
   },
   {
    "duration": 3,
    "start_time": "2021-11-16T10:55:59.186Z"
   },
   {
    "duration": 3,
    "start_time": "2021-11-16T10:56:10.751Z"
   },
   {
    "duration": 3,
    "start_time": "2021-11-16T10:56:49.038Z"
   },
   {
    "duration": 3,
    "start_time": "2021-11-16T10:56:49.174Z"
   },
   {
    "duration": 4,
    "start_time": "2021-11-16T10:56:49.414Z"
   },
   {
    "duration": 3,
    "start_time": "2021-11-16T10:56:49.680Z"
   },
   {
    "duration": 3,
    "start_time": "2021-11-16T10:56:50.370Z"
   },
   {
    "duration": 114,
    "start_time": "2021-11-16T10:59:34.518Z"
   },
   {
    "duration": 3,
    "start_time": "2021-11-16T11:01:41.201Z"
   },
   {
    "duration": 116,
    "start_time": "2021-11-16T11:01:48.754Z"
   },
   {
    "duration": 3,
    "start_time": "2021-11-16T11:02:16.685Z"
   },
   {
    "duration": 3,
    "start_time": "2021-11-16T11:02:19.479Z"
   },
   {
    "duration": 3,
    "start_time": "2021-11-16T11:02:47.067Z"
   },
   {
    "duration": 3,
    "start_time": "2021-11-16T11:02:49.353Z"
   },
   {
    "duration": 3,
    "start_time": "2021-11-16T11:03:07.835Z"
   },
   {
    "duration": 3,
    "start_time": "2021-11-16T11:03:07.953Z"
   },
   {
    "duration": 112,
    "start_time": "2021-11-16T11:07:52.072Z"
   },
   {
    "duration": 187,
    "start_time": "2021-11-16T11:09:23.468Z"
   },
   {
    "duration": 4,
    "start_time": "2021-11-16T11:10:01.455Z"
   },
   {
    "duration": 3,
    "start_time": "2021-11-16T11:10:05.069Z"
   },
   {
    "duration": 4,
    "start_time": "2021-11-16T11:10:13.376Z"
   },
   {
    "duration": 3,
    "start_time": "2021-11-16T11:10:14.434Z"
   },
   {
    "duration": 3,
    "start_time": "2021-11-16T11:10:22.853Z"
   },
   {
    "duration": 4,
    "start_time": "2021-11-16T11:27:29.279Z"
   },
   {
    "duration": 4,
    "start_time": "2021-11-16T11:29:08.919Z"
   },
   {
    "duration": 118,
    "start_time": "2021-11-16T11:29:46.703Z"
   },
   {
    "duration": 437,
    "start_time": "2021-11-16T11:36:02.181Z"
   },
   {
    "duration": 157,
    "start_time": "2021-11-16T11:36:14.388Z"
   },
   {
    "duration": 207,
    "start_time": "2021-11-16T11:47:15.898Z"
   },
   {
    "duration": 3,
    "start_time": "2021-11-16T11:53:52.092Z"
   },
   {
    "duration": 3,
    "start_time": "2021-11-16T11:53:52.236Z"
   },
   {
    "duration": 3,
    "start_time": "2021-11-16T11:59:12.005Z"
   },
   {
    "duration": 112,
    "start_time": "2021-11-16T12:00:33.446Z"
   },
   {
    "duration": 3,
    "start_time": "2021-11-16T12:02:14.453Z"
   },
   {
    "duration": 3,
    "start_time": "2021-11-16T12:02:39.512Z"
   },
   {
    "duration": 106,
    "start_time": "2021-11-16T12:03:03.460Z"
   },
   {
    "duration": 3,
    "start_time": "2021-11-17T20:37:21.139Z"
   },
   {
    "duration": 3,
    "start_time": "2021-11-17T20:37:22.229Z"
   },
   {
    "duration": 3,
    "start_time": "2021-11-17T20:38:38.806Z"
   },
   {
    "duration": 3,
    "start_time": "2021-11-17T20:38:41.958Z"
   },
   {
    "duration": 3,
    "start_time": "2021-11-17T20:43:46.551Z"
   },
   {
    "duration": 4,
    "start_time": "2021-11-17T20:58:21.835Z"
   },
   {
    "duration": 3,
    "start_time": "2021-11-17T20:59:21.872Z"
   },
   {
    "duration": 4,
    "start_time": "2021-11-17T20:59:45.352Z"
   },
   {
    "duration": 4,
    "start_time": "2021-11-17T20:59:49.646Z"
   },
   {
    "duration": 159,
    "start_time": "2021-11-17T21:02:26.949Z"
   },
   {
    "duration": 3,
    "start_time": "2021-11-17T21:03:53.461Z"
   },
   {
    "duration": 3,
    "start_time": "2021-11-17T21:03:53.694Z"
   },
   {
    "duration": 3,
    "start_time": "2021-11-17T21:05:28.145Z"
   },
   {
    "duration": 116,
    "start_time": "2021-11-17T21:05:57.787Z"
   },
   {
    "duration": 3,
    "start_time": "2021-11-17T21:06:37.993Z"
   },
   {
    "duration": 3,
    "start_time": "2021-11-17T21:06:38.261Z"
   },
   {
    "duration": 3,
    "start_time": "2021-11-17T21:11:54.358Z"
   },
   {
    "duration": 3,
    "start_time": "2021-11-17T21:12:43.846Z"
   },
   {
    "duration": 4,
    "start_time": "2021-11-17T21:13:08.773Z"
   },
   {
    "duration": 3,
    "start_time": "2021-11-17T21:14:44.441Z"
   },
   {
    "duration": 3,
    "start_time": "2021-11-17T21:15:42.059Z"
   },
   {
    "duration": 4,
    "start_time": "2021-11-17T21:15:51.995Z"
   },
   {
    "duration": 3,
    "start_time": "2021-11-17T21:15:53.923Z"
   },
   {
    "duration": 3,
    "start_time": "2021-11-17T21:15:55.282Z"
   },
   {
    "duration": 3,
    "start_time": "2021-11-17T21:16:28.492Z"
   },
   {
    "duration": 3,
    "start_time": "2021-11-17T21:16:32.603Z"
   },
   {
    "duration": 3,
    "start_time": "2021-11-17T21:17:06.941Z"
   },
   {
    "duration": 98,
    "start_time": "2021-11-17T21:18:05.733Z"
   },
   {
    "duration": 4,
    "start_time": "2021-11-17T21:21:35.255Z"
   },
   {
    "duration": 3,
    "start_time": "2021-11-17T21:21:37.804Z"
   },
   {
    "duration": 4,
    "start_time": "2021-11-17T21:23:06.071Z"
   },
   {
    "duration": 3,
    "start_time": "2021-11-17T21:23:24.799Z"
   },
   {
    "duration": 3,
    "start_time": "2021-11-17T21:23:32.591Z"
   },
   {
    "duration": 98,
    "start_time": "2021-11-17T21:28:31.559Z"
   },
   {
    "duration": 3,
    "start_time": "2021-11-17T21:28:45.448Z"
   },
   {
    "duration": 3,
    "start_time": "2021-11-17T21:29:17.303Z"
   },
   {
    "duration": 3,
    "start_time": "2021-11-17T21:29:29.617Z"
   },
   {
    "duration": 3,
    "start_time": "2021-11-17T21:29:32.681Z"
   },
   {
    "duration": 3,
    "start_time": "2021-11-17T21:36:11.474Z"
   },
   {
    "duration": 3,
    "start_time": "2021-11-17T21:36:14.791Z"
   },
   {
    "duration": 3,
    "start_time": "2021-11-17T21:36:53.943Z"
   },
   {
    "duration": 3,
    "start_time": "2021-11-17T21:36:56.165Z"
   },
   {
    "duration": 4,
    "start_time": "2021-11-17T21:37:16.590Z"
   },
   {
    "duration": 3,
    "start_time": "2021-11-17T21:37:22.702Z"
   },
   {
    "duration": 4,
    "start_time": "2021-11-17T21:38:03.479Z"
   },
   {
    "duration": 3,
    "start_time": "2021-11-17T21:38:08.601Z"
   },
   {
    "duration": 3,
    "start_time": "2021-11-17T21:38:12.928Z"
   },
   {
    "duration": 3,
    "start_time": "2021-11-17T21:38:48.896Z"
   },
   {
    "duration": 2,
    "start_time": "2021-11-17T21:38:49.171Z"
   },
   {
    "duration": 4,
    "start_time": "2021-11-17T21:39:57.889Z"
   },
   {
    "duration": 3,
    "start_time": "2021-11-17T21:39:58.057Z"
   },
   {
    "duration": 3,
    "start_time": "2021-11-17T21:41:20.108Z"
   },
   {
    "duration": 3,
    "start_time": "2021-11-17T21:41:20.629Z"
   },
   {
    "duration": 3,
    "start_time": "2021-11-17T21:42:49.136Z"
   },
   {
    "duration": 3,
    "start_time": "2021-11-17T21:43:15.137Z"
   },
   {
    "duration": 4,
    "start_time": "2021-11-17T21:43:16.766Z"
   },
   {
    "duration": 4,
    "start_time": "2021-11-17T21:43:31.711Z"
   },
   {
    "duration": 3,
    "start_time": "2021-11-17T21:43:36.312Z"
   },
   {
    "duration": 4,
    "start_time": "2021-11-17T21:45:08.825Z"
   },
   {
    "duration": 4,
    "start_time": "2021-11-17T21:45:10.119Z"
   },
   {
    "duration": 4,
    "start_time": "2021-11-17T21:45:13.748Z"
   },
   {
    "duration": 3,
    "start_time": "2021-11-17T21:45:22.219Z"
   },
   {
    "duration": 3,
    "start_time": "2021-11-17T21:45:33.412Z"
   },
   {
    "duration": 2,
    "start_time": "2021-11-17T21:46:01.885Z"
   },
   {
    "duration": 3,
    "start_time": "2021-11-17T21:46:03.628Z"
   },
   {
    "duration": 107,
    "start_time": "2021-11-17T21:47:32.512Z"
   },
   {
    "duration": 103,
    "start_time": "2021-11-17T21:50:36.243Z"
   },
   {
    "duration": 3,
    "start_time": "2021-11-18T06:28:31.440Z"
   },
   {
    "duration": 3,
    "start_time": "2021-11-18T06:29:00.168Z"
   },
   {
    "duration": 3,
    "start_time": "2021-11-18T06:31:27.008Z"
   },
   {
    "duration": 2,
    "start_time": "2021-11-18T06:35:34.288Z"
   },
   {
    "duration": 2,
    "start_time": "2021-11-18T06:38:04.527Z"
   }
  ],
  "colab": {
   "provenance": []
  },
  "kernelspec": {
   "display_name": "Python 3 (ipykernel)",
   "language": "python",
   "name": "python3"
  },
  "language_info": {
   "codemirror_mode": {
    "name": "ipython",
    "version": 3
   },
   "file_extension": ".py",
   "mimetype": "text/x-python",
   "name": "python",
   "nbconvert_exporter": "python",
   "pygments_lexer": "ipython3",
   "version": "3.9.19"
  },
  "toc": {
   "base_numbering": 1,
   "nav_menu": {},
   "number_sections": true,
   "sideBar": true,
   "skip_h1_title": false,
   "title_cell": "Table of Contents",
   "title_sidebar": "Contents",
   "toc_cell": false,
   "toc_position": {
    "height": "calc(100% - 180px)",
    "left": "10px",
    "top": "150px",
    "width": "165px"
   },
   "toc_section_display": true,
   "toc_window_display": true
  }
 },
 "nbformat": 4,
 "nbformat_minor": 1
}
